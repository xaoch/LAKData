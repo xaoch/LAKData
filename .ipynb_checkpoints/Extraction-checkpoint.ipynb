{
 "cells": [
  {
   "cell_type": "markdown",
   "metadata": {},
   "source": [
    "# LAK Conference ACM Proceedings JSON data generator\n",
    "\n",
    "## Input\n",
    "This script runs over the Table of Content html files downloaded from ACM Digital Library.  They can be downloaded throught the a link that has the form: ttps://dl.acm.org/tab_about.cfm?id=3303772 where the last number is the id of the proceedings.  Those files are stored with as year.html in the ACMFiles folder.  \n",
    "\n",
    "## Output\n",
    "The output of the script is a json files with all the information extracted from the HTML files stored in same directory as the script."
   ]
  },
  {
   "cell_type": "code",
   "execution_count": 42,
   "metadata": {},
   "outputs": [],
   "source": [
    "from bs4 import BeautifulSoup\n",
    "import json"
   ]
  },
  {
   "cell_type": "code",
   "execution_count": 43,
   "metadata": {},
   "outputs": [],
   "source": [
    "START=2011\n",
    "END=2019"
   ]
  },
  {
   "cell_type": "code",
   "execution_count": 44,
   "metadata": {},
   "outputs": [],
   "source": [
    "conferences=[]\n",
    "for year in range(START,END+1):\n",
    "    raw_html = open('ACMFiles/'+str(year)+'.html').read()\n",
    "    html = BeautifulSoup(raw_html, 'html.parser')\n",
    "    papers=[]\n",
    "    paper={}\n",
    "    authors=[]\n",
    "    session=\"None\"\n",
    "    for rows in html.select('tr'):\n",
    "        for columns in rows.select('td'):\n",
    "            if columns.has_attr('colspan') and columns['colspan']==\"2\":\n",
    "                session=columns.text\n",
    "            for links in columns.select('a'):\n",
    "                if \"citation\" in links['href']:\n",
    "                    paper['title']=links.text\n",
    "                    #print(links.text)\n",
    "                if \"author\" in links['href']:\n",
    "                    authors.append(links.text)\n",
    "                    #print(links.text)   \n",
    "                if links.has_attr('title') and \"DOI\" in links['title']:\n",
    "                    paper['doi']=links.text\n",
    "                    #print(links.text)\n",
    "            if \"Pages\" in columns.text:\n",
    "                separator = columns.text.index(':')\n",
    "                paper['pages']=columns.text[separator+2:]\n",
    "                #print(columns.text[separator+2:])\n",
    "            for spans in columns.select('span'):\n",
    "                if spans.has_attr('id') and \"toHide\" in spans['id']:\n",
    "                    paper['abstract']=spans.text\n",
    "                    #print(spans.text)\n",
    "                    paper['authors']=authors\n",
    "                    paper['session']=session\n",
    "                    papers.append(paper)\n",
    "                    paper={}\n",
    "                    authors=[]\n",
    "    conferenceData={}\n",
    "    conferenceData['year']=year\n",
    "    conferenceData['papers']=papers\n",
    "    conferences.append(conferenceData)\n",
    "with open('LAK.json', 'w') as outfile:  \n",
    "    json.dump(conferences, outfile)\n",
    "            \n"
   ]
  }
 ],
 "metadata": {
  "kernelspec": {
   "display_name": "Python 3",
   "language": "python",
   "name": "python3"
  },
  "language_info": {
   "codemirror_mode": {
    "name": "ipython",
    "version": 3
   },
   "file_extension": ".py",
   "mimetype": "text/x-python",
   "name": "python",
   "nbconvert_exporter": "python",
   "pygments_lexer": "ipython3",
   "version": "3.6.8"
  }
 },
 "nbformat": 4,
 "nbformat_minor": 2
}
